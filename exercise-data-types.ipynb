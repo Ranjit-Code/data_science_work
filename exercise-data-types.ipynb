{
 "cells": [
  {
   "cell_type": "markdown",
   "id": "7973257b",
   "metadata": {
    "papermill": {
     "duration": 0.00663,
     "end_time": "2024-03-27T18:44:14.957198",
     "exception": false,
     "start_time": "2024-03-27T18:44:14.950568",
     "status": "completed"
    },
    "tags": []
   },
   "source": [
    "**This notebook is an exercise in the [Intro to Programming](https://www.kaggle.com/learn/intro-to-programming) course.  You can reference the tutorial at [this link](https://www.kaggle.com/alexisbcook/data-types).**\n",
    "\n",
    "---\n"
   ]
  },
  {
   "cell_type": "markdown",
   "id": "a032d8bb",
   "metadata": {
    "papermill": {
     "duration": 0.006448,
     "end_time": "2024-03-27T18:44:14.970325",
     "exception": false,
     "start_time": "2024-03-27T18:44:14.963877",
     "status": "completed"
    },
    "tags": []
   },
   "source": [
    "In the tutorial, you learned about four different data types: floats, integers, strings, and booleans.  In this exercise, you'll experiment with them.\n",
    "\n",
    "# Set up the notebook\n",
    "\n",
    "Run the next code cell without changes to set up the notebook."
   ]
  },
  {
   "cell_type": "code",
   "execution_count": 1,
   "id": "20b06b33",
   "metadata": {
    "execution": {
     "iopub.execute_input": "2024-03-27T18:44:14.984956Z",
     "iopub.status.busy": "2024-03-27T18:44:14.984564Z",
     "iopub.status.idle": "2024-03-27T18:44:16.039093Z",
     "shell.execute_reply": "2024-03-27T18:44:16.037871Z"
    },
    "papermill": {
     "duration": 1.064831,
     "end_time": "2024-03-27T18:44:16.041555",
     "exception": false,
     "start_time": "2024-03-27T18:44:14.976724",
     "status": "completed"
    },
    "tags": []
   },
   "outputs": [
    {
     "name": "stdout",
     "output_type": "stream",
     "text": [
      "Setup complete.\n"
     ]
    }
   ],
   "source": [
    "# Set up the exercise\n",
    "from learntools.core import binder\n",
    "binder.bind(globals())\n",
    "from learntools.intro_to_programming.ex3 import *\n",
    "print('Setup complete.')"
   ]
  },
  {
   "cell_type": "markdown",
   "id": "565c8409",
   "metadata": {
    "papermill": {
     "duration": 0.005943,
     "end_time": "2024-03-27T18:44:16.054558",
     "exception": false,
     "start_time": "2024-03-27T18:44:16.048615",
     "status": "completed"
    },
    "tags": []
   },
   "source": [
    "# Question 1\n",
    "\n",
    "You have seen how to convert a float to an integer with the `int` function.  Try this out yourself by running the code cell below."
   ]
  },
  {
   "cell_type": "code",
   "execution_count": 2,
   "id": "d366d4de",
   "metadata": {
    "execution": {
     "iopub.execute_input": "2024-03-27T18:44:16.068961Z",
     "iopub.status.busy": "2024-03-27T18:44:16.068430Z",
     "iopub.status.idle": "2024-03-27T18:44:16.074961Z",
     "shell.execute_reply": "2024-03-27T18:44:16.073931Z"
    },
    "papermill": {
     "duration": 0.016528,
     "end_time": "2024-03-27T18:44:16.077298",
     "exception": false,
     "start_time": "2024-03-27T18:44:16.060770",
     "status": "completed"
    },
    "tags": []
   },
   "outputs": [
    {
     "name": "stdout",
     "output_type": "stream",
     "text": [
      "1.0\n",
      "<class 'float'>\n",
      "1\n",
      "<class 'int'>\n"
     ]
    }
   ],
   "source": [
    "# Define a float\n",
    "y = 1.\n",
    "print(y)\n",
    "print(type(y))\n",
    "\n",
    "# Convert float to integer with the int function\n",
    "z = int(y)\n",
    "print(z)\n",
    "print(type(z))"
   ]
  },
  {
   "cell_type": "markdown",
   "id": "f2fadeb7",
   "metadata": {
    "papermill": {
     "duration": 0.006985,
     "end_time": "2024-03-27T18:44:16.092053",
     "exception": false,
     "start_time": "2024-03-27T18:44:16.085068",
     "status": "completed"
    },
    "tags": []
   },
   "source": [
    "In this case, the float you are using has no numbers after the decimal.  \n",
    "- But what happens when you try to convert a float with a fractional part to an integer?  \n",
    "- How does the outcome of the `int` function change for positive and negative numbers?\n",
    "\n",
    "Use the next code cell to investigate and answer these questions.  Feel free to add or remove any lines of code -- it is your workspace!"
   ]
  },
  {
   "cell_type": "code",
   "execution_count": 3,
   "id": "e2a9a3b3",
   "metadata": {
    "execution": {
     "iopub.execute_input": "2024-03-27T18:44:16.106322Z",
     "iopub.status.busy": "2024-03-27T18:44:16.105936Z",
     "iopub.status.idle": "2024-03-27T18:44:16.112283Z",
     "shell.execute_reply": "2024-03-27T18:44:16.110796Z"
    },
    "papermill": {
     "duration": 0.016923,
     "end_time": "2024-03-27T18:44:16.115299",
     "exception": false,
     "start_time": "2024-03-27T18:44:16.098376",
     "status": "completed"
    },
    "tags": []
   },
   "outputs": [
    {
     "name": "stdout",
     "output_type": "stream",
     "text": [
      "1\n",
      "1\n",
      "-3\n",
      "-2\n"
     ]
    }
   ],
   "source": [
    "# Uncomment and run this code to get started!\n",
    "print(int(1.2321))\n",
    "print(int(1.747))\n",
    "print(int(-3.94535))\n",
    "print(int(-2.19774))"
   ]
  },
  {
   "cell_type": "markdown",
   "id": "7ff700e6",
   "metadata": {
    "papermill": {
     "duration": 0.006342,
     "end_time": "2024-03-27T18:44:16.128889",
     "exception": false,
     "start_time": "2024-03-27T18:44:16.122547",
     "status": "completed"
    },
    "tags": []
   },
   "source": [
    "Once you have an answer, run the code cell below to see the solution.  Viewing the solution will give you credit for answering the problem."
   ]
  },
  {
   "cell_type": "code",
   "execution_count": 4,
   "id": "19092d47",
   "metadata": {
    "execution": {
     "iopub.execute_input": "2024-03-27T18:44:16.143251Z",
     "iopub.status.busy": "2024-03-27T18:44:16.142828Z",
     "iopub.status.idle": "2024-03-27T18:44:16.152719Z",
     "shell.execute_reply": "2024-03-27T18:44:16.151615Z"
    },
    "papermill": {
     "duration": 0.019469,
     "end_time": "2024-03-27T18:44:16.154777",
     "exception": false,
     "start_time": "2024-03-27T18:44:16.135308",
     "status": "completed"
    },
    "tags": []
   },
   "outputs": [
    {
     "data": {
      "application/javascript": [
       "parent.postMessage({\"jupyterEvent\": \"custom.exercise_interaction\", \"data\": {\"outcomeType\": 1, \"valueTowardsCompletion\": 0.2, \"interactionType\": 1, \"questionType\": 4, \"questionId\": \"1_FloatToInt\", \"learnToolsVersion\": \"0.3.4\", \"failureMessage\": \"\", \"exceptionClass\": \"\", \"trace\": \"\"}}, \"*\")"
      ],
      "text/plain": [
       "<IPython.core.display.Javascript object>"
      ]
     },
     "metadata": {},
     "output_type": "display_data"
    },
    {
     "data": {
      "text/markdown": [
       "<span style=\"color:#33cc33\">Correct:</span> \n",
       "\n",
       "Negative floats are always rounded UP to the closest integer (for instance, both -1.1 and -1.9 are rounded up to -1). Positive floats are always rounded DOWN to the closest integer (for instance, 2.1 and 2.9 are rounded down to 2)."
      ],
      "text/plain": [
       "Correct: \n",
       "\n",
       "Negative floats are always rounded UP to the closest integer (for instance, both -1.1 and -1.9 are rounded up to -1). Positive floats are always rounded DOWN to the closest integer (for instance, 2.1 and 2.9 are rounded down to 2)."
      ]
     },
     "metadata": {},
     "output_type": "display_data"
    }
   ],
   "source": [
    "# Check your answer (Run this code cell to receive credit!)\n",
    "q1.check()"
   ]
  },
  {
   "cell_type": "markdown",
   "id": "535f6023",
   "metadata": {
    "papermill": {
     "duration": 0.006259,
     "end_time": "2024-03-27T18:44:16.168189",
     "exception": false,
     "start_time": "2024-03-27T18:44:16.161930",
     "status": "completed"
    },
    "tags": []
   },
   "source": [
    "# Question 2\n",
    "\n",
    "In the tutorial, you learned about booleans (which can take a value of `True` or `False`), in addition to integers, floats, and strings.  For this question, your goal is to determine what happens when you multiply a boolean by any of these data types.  Specifically, \n",
    "- What happens when you multiply an integer or float by `True`?  What happens when you multiply them by `False`?  How does the answer change if the numbers are positive or negative?\n",
    "- What happens when you multiply a string by `True`?  By `False`?\n",
    "\n",
    "Use the next code cell for your investigation. "
   ]
  },
  {
   "cell_type": "code",
   "execution_count": 5,
   "id": "54e8282a",
   "metadata": {
    "execution": {
     "iopub.execute_input": "2024-03-27T18:44:16.183267Z",
     "iopub.status.busy": "2024-03-27T18:44:16.182818Z",
     "iopub.status.idle": "2024-03-27T18:44:16.189421Z",
     "shell.execute_reply": "2024-03-27T18:44:16.188206Z"
    },
    "papermill": {
     "duration": 0.016818,
     "end_time": "2024-03-27T18:44:16.191589",
     "exception": false,
     "start_time": "2024-03-27T18:44:16.174771",
     "status": "completed"
    },
    "tags": []
   },
   "outputs": [
    {
     "name": "stdout",
     "output_type": "stream",
     "text": [
      "3\n",
      "-3.1\n",
      "<class 'str'>\n",
      "0\n"
     ]
    }
   ],
   "source": [
    "# Uncomment and run this code to get started!\n",
    "print(3 * True)\n",
    "print(-3.1 * True)\n",
    "print(type(\"abc\" * False))\n",
    "print(len(\"abc\" * False))"
   ]
  },
  {
   "cell_type": "markdown",
   "id": "dd24b196",
   "metadata": {
    "papermill": {
     "duration": 0.006437,
     "end_time": "2024-03-27T18:44:16.205728",
     "exception": false,
     "start_time": "2024-03-27T18:44:16.199291",
     "status": "completed"
    },
    "tags": []
   },
   "source": [
    "Once you have an answer, run the code cell below to see the solution.  Viewing the solution will give you credit for answering the problem."
   ]
  },
  {
   "cell_type": "code",
   "execution_count": 6,
   "id": "11ee3e2c",
   "metadata": {
    "execution": {
     "iopub.execute_input": "2024-03-27T18:44:16.220857Z",
     "iopub.status.busy": "2024-03-27T18:44:16.220464Z",
     "iopub.status.idle": "2024-03-27T18:44:16.228836Z",
     "shell.execute_reply": "2024-03-27T18:44:16.227809Z"
    },
    "papermill": {
     "duration": 0.018488,
     "end_time": "2024-03-27T18:44:16.230965",
     "exception": false,
     "start_time": "2024-03-27T18:44:16.212477",
     "status": "completed"
    },
    "tags": []
   },
   "outputs": [
    {
     "data": {
      "application/javascript": [
       "parent.postMessage({\"jupyterEvent\": \"custom.exercise_interaction\", \"data\": {\"outcomeType\": 1, \"valueTowardsCompletion\": 0.2, \"interactionType\": 1, \"questionType\": 4, \"questionId\": \"2_MultiplyBooleans\", \"learnToolsVersion\": \"0.3.4\", \"failureMessage\": \"\", \"exceptionClass\": \"\", \"trace\": \"\"}}, \"*\")"
      ],
      "text/plain": [
       "<IPython.core.display.Javascript object>"
      ]
     },
     "metadata": {},
     "output_type": "display_data"
    },
    {
     "data": {
      "text/markdown": [
       "<span style=\"color:#33cc33\">Correct:</span> \n",
       "\n",
       "When you multiple an integer or float by a boolean with value `True`, it just returns that same integer or float (and is equivalent to multiplying by 1).  If you multiply an integer or float by a boolean with value `False`, it always returns 0.  This is true for both positive and negative numbers.  If you multiply a string by a boolean with value `True`, it just returns that same string.  And if you multiply a string by a boolean with value `False`, it returns an empty string (or a string with length zero)."
      ],
      "text/plain": [
       "Correct: \n",
       "\n",
       "When you multiple an integer or float by a boolean with value `True`, it just returns that same integer or float (and is equivalent to multiplying by 1).  If you multiply an integer or float by a boolean with value `False`, it always returns 0.  This is true for both positive and negative numbers.  If you multiply a string by a boolean with value `True`, it just returns that same string.  And if you multiply a string by a boolean with value `False`, it returns an empty string (or a string with length zero)."
      ]
     },
     "metadata": {},
     "output_type": "display_data"
    }
   ],
   "source": [
    "# Check your answer (Run this code cell to receive credit!)\n",
    "q2.check()"
   ]
  },
  {
   "cell_type": "markdown",
   "id": "7017ff58",
   "metadata": {
    "papermill": {
     "duration": 0.006702,
     "end_time": "2024-03-27T18:44:16.244894",
     "exception": false,
     "start_time": "2024-03-27T18:44:16.238192",
     "status": "completed"
    },
    "tags": []
   },
   "source": [
    "# Question 3\n",
    "\n",
    "In this question, you will build off your work from the previous exercise to write a function that estimates the value of a house.\n",
    "\n",
    "Use the next code cell to create a function `get_expected_cost` that takes as input three variables:\n",
    "- `beds` - number of bedrooms (data type float)\n",
    "- `baths` - number of bathrooms (data type float)\n",
    "- `has_basement` - whether or not the house has a basement (data type boolean)\n",
    "\n",
    "It should return the expected cost of a house with those characteristics. Assume that:\n",
    "- the expected cost for a house with 0 bedrooms and 0 bathrooms, and no basement is 80000, \n",
    "- each bedroom adds 30000 to the expected cost,\n",
    "- each bathroom adds 10000 to the expected cost, and\n",
    "- a basement adds 40000 to the expected cost.\n",
    "\n",
    "For instance,\n",
    "- a house with 1 bedroom, 1 bathroom, and no basement has an expected cost of 80000 + 30000 + 10000 = 120000.  This value will be calculated with `get_expected_cost(1, 1, False)`.\n",
    "- a house with 2 bedrooms, 1 bathroom, and a basement has an expected cost of 80000 + 2*30000 + 10000 + 40000 = 190000.  This value will be calculated with `get_expected_cost(2, 1, True)`.\n",
    "\n",
    "Remember you can always get a hint by uncommenting `q3.hint()` in the code cell following the next!"
   ]
  },
  {
   "cell_type": "code",
   "execution_count": 7,
   "id": "b88200cb",
   "metadata": {
    "execution": {
     "iopub.execute_input": "2024-03-27T18:44:16.260585Z",
     "iopub.status.busy": "2024-03-27T18:44:16.260201Z",
     "iopub.status.idle": "2024-03-27T18:44:16.269074Z",
     "shell.execute_reply": "2024-03-27T18:44:16.268025Z"
    },
    "papermill": {
     "duration": 0.019301,
     "end_time": "2024-03-27T18:44:16.271313",
     "exception": false,
     "start_time": "2024-03-27T18:44:16.252012",
     "status": "completed"
    },
    "tags": []
   },
   "outputs": [
    {
     "data": {
      "application/javascript": [
       "parent.postMessage({\"jupyterEvent\": \"custom.exercise_interaction\", \"data\": {\"outcomeType\": 1, \"valueTowardsCompletion\": 0.2, \"interactionType\": 1, \"questionType\": 2, \"questionId\": \"3_EstimateHouseValueBool\", \"learnToolsVersion\": \"0.3.4\", \"failureMessage\": \"\", \"exceptionClass\": \"\", \"trace\": \"\"}}, \"*\")"
      ],
      "text/plain": [
       "<IPython.core.display.Javascript object>"
      ]
     },
     "metadata": {},
     "output_type": "display_data"
    },
    {
     "data": {
      "text/markdown": [
       "<span style=\"color:#33cc33\">Correct</span>"
      ],
      "text/plain": [
       "Correct"
      ]
     },
     "metadata": {},
     "output_type": "display_data"
    }
   ],
   "source": [
    "# TODO: Complete the function\n",
    "def get_expected_cost(beds, baths, has_basement):\n",
    "    value = 80000 + (beds * 30000 + baths * 10000) + (has_basement * 40000) \n",
    "    return value\n",
    "\n",
    "# Check your answer \n",
    "q3.check()"
   ]
  },
  {
   "cell_type": "code",
   "execution_count": 8,
   "id": "131599c2",
   "metadata": {
    "execution": {
     "iopub.execute_input": "2024-03-27T18:44:16.287695Z",
     "iopub.status.busy": "2024-03-27T18:44:16.287323Z",
     "iopub.status.idle": "2024-03-27T18:44:16.298955Z",
     "shell.execute_reply": "2024-03-27T18:44:16.297858Z"
    },
    "papermill": {
     "duration": 0.023024,
     "end_time": "2024-03-27T18:44:16.301642",
     "exception": false,
     "start_time": "2024-03-27T18:44:16.278618",
     "status": "completed"
    },
    "tags": []
   },
   "outputs": [
    {
     "data": {
      "application/javascript": [
       "parent.postMessage({\"jupyterEvent\": \"custom.exercise_interaction\", \"data\": {\"interactionType\": 2, \"questionType\": 2, \"questionId\": \"3_EstimateHouseValueBool\", \"learnToolsVersion\": \"0.3.4\", \"valueTowardsCompletion\": 0.0, \"failureMessage\": \"\", \"exceptionClass\": \"\", \"trace\": \"\", \"outcomeType\": 4}}, \"*\")"
      ],
      "text/plain": [
       "<IPython.core.display.Javascript object>"
      ]
     },
     "metadata": {},
     "output_type": "display_data"
    },
    {
     "data": {
      "text/markdown": [
       "<span style=\"color:#3366cc\">Hint:</span> The variable `has_basement` is either `True` or `False`.  What happens when you multiply it by 40000 (the value of a basement)?  Refer to the previous question if you are unsure."
      ],
      "text/plain": [
       "Hint: The variable `has_basement` is either `True` or `False`.  What happens when you multiply it by 40000 (the value of a basement)?  Refer to the previous question if you are unsure."
      ]
     },
     "metadata": {},
     "output_type": "display_data"
    },
    {
     "data": {
      "application/javascript": [
       "parent.postMessage({\"jupyterEvent\": \"custom.exercise_interaction\", \"data\": {\"interactionType\": 3, \"questionType\": 2, \"questionId\": \"3_EstimateHouseValueBool\", \"learnToolsVersion\": \"0.3.4\", \"valueTowardsCompletion\": 0.0, \"failureMessage\": \"\", \"exceptionClass\": \"\", \"trace\": \"\", \"outcomeType\": 4}}, \"*\")"
      ],
      "text/plain": [
       "<IPython.core.display.Javascript object>"
      ]
     },
     "metadata": {},
     "output_type": "display_data"
    },
    {
     "data": {
      "text/markdown": [
       "<span style=\"color:#33cc99\">Solution:</span> \n",
       "```python\n",
       "def get_expected_cost(beds, baths, has_basement):\n",
       "    value = 80000 + 30000 * beds + 10000 * baths + 40000 * has_basement\n",
       "    return value\n",
       "\n",
       "```"
      ],
      "text/plain": [
       "Solution: \n",
       "```python\n",
       "def get_expected_cost(beds, baths, has_basement):\n",
       "    value = 80000 + 30000 * beds + 10000 * baths + 40000 * has_basement\n",
       "    return value\n",
       "\n",
       "```"
      ]
     },
     "metadata": {},
     "output_type": "display_data"
    }
   ],
   "source": [
    "# Uncomment to see a hint\n",
    "q3.hint()\n",
    "\n",
    "# Uncomment to view the solution\n",
    "q3.solution()"
   ]
  },
  {
   "cell_type": "markdown",
   "id": "d717d8fb",
   "metadata": {
    "papermill": {
     "duration": 0.008495,
     "end_time": "2024-03-27T18:44:16.317909",
     "exception": false,
     "start_time": "2024-03-27T18:44:16.309414",
     "status": "completed"
    },
    "tags": []
   },
   "source": [
    "# Question 4\n",
    "\n",
    "We'll continue our study of boolean arithmetic.  For this question, your task is to provide a description of what happpens when you add booleans. \n",
    "\n",
    "Use the next code cell for your investigation.  Feel free to add or remove any lines of code - use it as your workspace!"
   ]
  },
  {
   "cell_type": "code",
   "execution_count": 9,
   "id": "570fff63",
   "metadata": {
    "execution": {
     "iopub.execute_input": "2024-03-27T18:44:16.335435Z",
     "iopub.status.busy": "2024-03-27T18:44:16.335031Z",
     "iopub.status.idle": "2024-03-27T18:44:16.340739Z",
     "shell.execute_reply": "2024-03-27T18:44:16.339700Z"
    },
    "papermill": {
     "duration": 0.017204,
     "end_time": "2024-03-27T18:44:16.342993",
     "exception": false,
     "start_time": "2024-03-27T18:44:16.325789",
     "status": "completed"
    },
    "tags": []
   },
   "outputs": [
    {
     "name": "stdout",
     "output_type": "stream",
     "text": [
      "0\n",
      "1\n",
      "1\n",
      "2\n",
      "3\n"
     ]
    }
   ],
   "source": [
    "print(False + False)\n",
    "print(True + False)\n",
    "print(False + True)\n",
    "print(True + True)\n",
    "print(False + True + True + True)"
   ]
  },
  {
   "cell_type": "markdown",
   "id": "6c7eeb28",
   "metadata": {
    "papermill": {
     "duration": 0.007302,
     "end_time": "2024-03-27T18:44:16.358309",
     "exception": false,
     "start_time": "2024-03-27T18:44:16.351007",
     "status": "completed"
    },
    "tags": []
   },
   "source": [
    "Once you have an answer, run the code cell below to see the solution.  Viewing the solution will give you credit for answering the problem."
   ]
  },
  {
   "cell_type": "code",
   "execution_count": 10,
   "id": "51220870",
   "metadata": {
    "execution": {
     "iopub.execute_input": "2024-03-27T18:44:16.375395Z",
     "iopub.status.busy": "2024-03-27T18:44:16.375005Z",
     "iopub.status.idle": "2024-03-27T18:44:16.383934Z",
     "shell.execute_reply": "2024-03-27T18:44:16.382784Z"
    },
    "papermill": {
     "duration": 0.02006,
     "end_time": "2024-03-27T18:44:16.386074",
     "exception": false,
     "start_time": "2024-03-27T18:44:16.366014",
     "status": "completed"
    },
    "tags": []
   },
   "outputs": [
    {
     "data": {
      "application/javascript": [
       "parent.postMessage({\"jupyterEvent\": \"custom.exercise_interaction\", \"data\": {\"outcomeType\": 1, \"valueTowardsCompletion\": 0.2, \"interactionType\": 1, \"questionType\": 4, \"questionId\": \"4_AddingBooleans\", \"learnToolsVersion\": \"0.3.4\", \"failureMessage\": \"\", \"exceptionClass\": \"\", \"trace\": \"\"}}, \"*\")"
      ],
      "text/plain": [
       "<IPython.core.display.Javascript object>"
      ]
     },
     "metadata": {},
     "output_type": "display_data"
    },
    {
     "data": {
      "text/markdown": [
       "<span style=\"color:#33cc33\">Correct:</span> \n",
       "\n",
       "When you add booleans, adding `False` is equivalent to adding 0, and adding `True` is equivalent to adding 1."
      ],
      "text/plain": [
       "Correct: \n",
       "\n",
       "When you add booleans, adding `False` is equivalent to adding 0, and adding `True` is equivalent to adding 1."
      ]
     },
     "metadata": {},
     "output_type": "display_data"
    }
   ],
   "source": [
    "# Check your answer (Run this code cell to receive credit!)\n",
    "q4.check()"
   ]
  },
  {
   "cell_type": "markdown",
   "id": "23edf9e1",
   "metadata": {
    "papermill": {
     "duration": 0.007899,
     "end_time": "2024-03-27T18:44:16.402415",
     "exception": false,
     "start_time": "2024-03-27T18:44:16.394516",
     "status": "completed"
    },
    "tags": []
   },
   "source": [
    "# 🌶️ Question 5\n",
    "\n",
    "You own an online shop where you sell rings with custom engravings.  You offer both gold plated and solid gold rings.\n",
    "- Gold plated rings have a base cost of \\\\$50, and you charge \\\\$7 per engraved unit.  \n",
    "- Solid gold rings have a base cost of \\\\$100, and you charge \\\\$10 per engraved unit.\n",
    "- Spaces and punctuation are counted as engraved units.\n",
    "\n",
    "Write a function `cost_of_project()` that takes two arguments:\n",
    "- `engraving` - a Python string with the text of the engraving\n",
    "- `solid_gold` - a Boolean that indicates whether the ring is solid gold\n",
    "\n",
    "It should return the cost of the project.  This question should be fairly challenging, and you may need a hint."
   ]
  },
  {
   "cell_type": "code",
   "execution_count": 11,
   "id": "eee1f89b",
   "metadata": {
    "execution": {
     "iopub.execute_input": "2024-03-27T18:44:16.420828Z",
     "iopub.status.busy": "2024-03-27T18:44:16.420475Z",
     "iopub.status.idle": "2024-03-27T18:44:16.429634Z",
     "shell.execute_reply": "2024-03-27T18:44:16.428633Z"
    },
    "papermill": {
     "duration": 0.020705,
     "end_time": "2024-03-27T18:44:16.431589",
     "exception": false,
     "start_time": "2024-03-27T18:44:16.410884",
     "status": "completed"
    },
    "tags": []
   },
   "outputs": [
    {
     "data": {
      "application/javascript": [
       "parent.postMessage({\"jupyterEvent\": \"custom.exercise_interaction\", \"data\": {\"outcomeType\": 1, \"valueTowardsCompletion\": 0.2, \"interactionType\": 1, \"questionType\": 2, \"questionId\": \"5_CustomEngravings\", \"learnToolsVersion\": \"0.3.4\", \"failureMessage\": \"\", \"exceptionClass\": \"\", \"trace\": \"\"}}, \"*\")"
      ],
      "text/plain": [
       "<IPython.core.display.Javascript object>"
      ]
     },
     "metadata": {},
     "output_type": "display_data"
    },
    {
     "data": {
      "text/markdown": [
       "<span style=\"color:#33cc33\">Correct</span>"
      ],
      "text/plain": [
       "Correct"
      ]
     },
     "metadata": {},
     "output_type": "display_data"
    }
   ],
   "source": [
    "def cost_of_project(engraving, solid_gold):\n",
    "    engraved_charges=0\n",
    "    if solid_gold:\n",
    "        engraved_charges = 100 + len(engraving) * 10\n",
    "    else:\n",
    "        engraved_charges = 50 + len(engraving) * 7\n",
    "        \n",
    "    cost = engraved_charges\n",
    "    return cost\n",
    "\n",
    "# Check your answer\n",
    "q5.check()"
   ]
  },
  {
   "cell_type": "code",
   "execution_count": 12,
   "id": "ec93d083",
   "metadata": {
    "execution": {
     "iopub.execute_input": "2024-03-27T18:44:16.450064Z",
     "iopub.status.busy": "2024-03-27T18:44:16.449703Z",
     "iopub.status.idle": "2024-03-27T18:44:16.460711Z",
     "shell.execute_reply": "2024-03-27T18:44:16.459721Z"
    },
    "papermill": {
     "duration": 0.022928,
     "end_time": "2024-03-27T18:44:16.462770",
     "exception": false,
     "start_time": "2024-03-27T18:44:16.439842",
     "status": "completed"
    },
    "tags": []
   },
   "outputs": [
    {
     "data": {
      "application/javascript": [
       "parent.postMessage({\"jupyterEvent\": \"custom.exercise_interaction\", \"data\": {\"interactionType\": 2, \"questionType\": 2, \"questionId\": \"5_CustomEngravings\", \"learnToolsVersion\": \"0.3.4\", \"valueTowardsCompletion\": 0.0, \"failureMessage\": \"\", \"exceptionClass\": \"\", \"trace\": \"\", \"outcomeType\": 4}}, \"*\")"
      ],
      "text/plain": [
       "<IPython.core.display.Javascript object>"
      ]
     },
     "metadata": {},
     "output_type": "display_data"
    },
    {
     "data": {
      "text/markdown": [
       "<span style=\"color:#3366cc\">Hint:</span> There are two options - either the project uses solid gold or does not.  With this in mind, you can structure your solution like this: `cost = solid_gold * ____ + (not solid_gold) * ____`.  You need to figure out how to fill in the blanks. Also, remember that:\n",
       "- If `solid_gold = True`, then `(not solid_gold) = False`, and if `solid_gold = False`, then `(not solid_gold) = True`.\n",
       "- Multiplying an integer by `True` is equivalent to multiplying it by 1, and multiplying an integer by `False` is equivalent to multiplying it by 0."
      ],
      "text/plain": [
       "Hint: There are two options - either the project uses solid gold or does not.  With this in mind, you can structure your solution like this: `cost = solid_gold * ____ + (not solid_gold) * ____`.  You need to figure out how to fill in the blanks. Also, remember that:\n",
       "- If `solid_gold = True`, then `(not solid_gold) = False`, and if `solid_gold = False`, then `(not solid_gold) = True`.\n",
       "- Multiplying an integer by `True` is equivalent to multiplying it by 1, and multiplying an integer by `False` is equivalent to multiplying it by 0."
      ]
     },
     "metadata": {},
     "output_type": "display_data"
    },
    {
     "data": {
      "application/javascript": [
       "parent.postMessage({\"jupyterEvent\": \"custom.exercise_interaction\", \"data\": {\"interactionType\": 3, \"questionType\": 2, \"questionId\": \"5_CustomEngravings\", \"learnToolsVersion\": \"0.3.4\", \"valueTowardsCompletion\": 0.0, \"failureMessage\": \"\", \"exceptionClass\": \"\", \"trace\": \"\", \"outcomeType\": 4}}, \"*\")"
      ],
      "text/plain": [
       "<IPython.core.display.Javascript object>"
      ]
     },
     "metadata": {},
     "output_type": "display_data"
    },
    {
     "data": {
      "text/markdown": [
       "<span style=\"color:#33cc99\">Solution:</span> \n",
       "```python\n",
       "def cost_of_project(engraving, solid_gold):\n",
       "    cost = solid_gold * (100 + 10 * len(engraving)) + (not solid_gold) * (50 + 7 * len(engraving))\n",
       "    return cost\n",
       "\n",
       "```"
      ],
      "text/plain": [
       "Solution: \n",
       "```python\n",
       "def cost_of_project(engraving, solid_gold):\n",
       "    cost = solid_gold * (100 + 10 * len(engraving)) + (not solid_gold) * (50 + 7 * len(engraving))\n",
       "    return cost\n",
       "\n",
       "```"
      ]
     },
     "metadata": {},
     "output_type": "display_data"
    }
   ],
   "source": [
    "# Uncomment to see a hint\n",
    "q5.hint()\n",
    "\n",
    "# Uncomment to view the solution\n",
    "q5.solution()"
   ]
  },
  {
   "cell_type": "markdown",
   "id": "8a05c442",
   "metadata": {
    "papermill": {
     "duration": 0.00835,
     "end_time": "2024-03-27T18:44:16.479693",
     "exception": false,
     "start_time": "2024-03-27T18:44:16.471343",
     "status": "completed"
    },
    "tags": []
   },
   "source": [
    "Run the next code cell to calculate the cost of engraving `Charlie+Denver` on a solid gold ring."
   ]
  },
  {
   "cell_type": "code",
   "execution_count": 13,
   "id": "ed593ffa",
   "metadata": {
    "execution": {
     "iopub.execute_input": "2024-03-27T18:44:16.499525Z",
     "iopub.status.busy": "2024-03-27T18:44:16.498442Z",
     "iopub.status.idle": "2024-03-27T18:44:16.504367Z",
     "shell.execute_reply": "2024-03-27T18:44:16.503112Z"
    },
    "papermill": {
     "duration": 0.017928,
     "end_time": "2024-03-27T18:44:16.506474",
     "exception": false,
     "start_time": "2024-03-27T18:44:16.488546",
     "status": "completed"
    },
    "tags": []
   },
   "outputs": [
    {
     "name": "stdout",
     "output_type": "stream",
     "text": [
      "240\n"
     ]
    }
   ],
   "source": [
    "project_one = cost_of_project(\"Charlie+Denver\", True)\n",
    "print(project_one)"
   ]
  },
  {
   "cell_type": "markdown",
   "id": "d1a576c9",
   "metadata": {
    "papermill": {
     "duration": 0.008531,
     "end_time": "2024-03-27T18:44:16.524065",
     "exception": false,
     "start_time": "2024-03-27T18:44:16.515534",
     "status": "completed"
    },
    "tags": []
   },
   "source": [
    "Use the next code cell to calculate the cost of engraving `08/10/2000` on a gold plated ring."
   ]
  },
  {
   "cell_type": "code",
   "execution_count": 14,
   "id": "313a8759",
   "metadata": {
    "execution": {
     "iopub.execute_input": "2024-03-27T18:44:16.543341Z",
     "iopub.status.busy": "2024-03-27T18:44:16.542903Z",
     "iopub.status.idle": "2024-03-27T18:44:16.548137Z",
     "shell.execute_reply": "2024-03-27T18:44:16.547153Z"
    },
    "papermill": {
     "duration": 0.017889,
     "end_time": "2024-03-27T18:44:16.550685",
     "exception": false,
     "start_time": "2024-03-27T18:44:16.532796",
     "status": "completed"
    },
    "tags": []
   },
   "outputs": [
    {
     "name": "stdout",
     "output_type": "stream",
     "text": [
      "120\n"
     ]
    }
   ],
   "source": [
    "project_two = cost_of_project(\"08/10/2000\", False)\n",
    "print(project_two)"
   ]
  },
  {
   "cell_type": "markdown",
   "id": "2a199754",
   "metadata": {
    "papermill": {
     "duration": 0.008674,
     "end_time": "2024-03-27T18:44:16.568300",
     "exception": false,
     "start_time": "2024-03-27T18:44:16.559626",
     "status": "completed"
    },
    "tags": []
   },
   "source": [
    "# Keep going\n",
    "\n",
    "Continue to the next lesson to **[learn about conditions and conditional statements](https://www.kaggle.com/alexisbcook/conditions-and-conditional-statements)**."
   ]
  },
  {
   "cell_type": "markdown",
   "id": "9b7125a4",
   "metadata": {
    "papermill": {
     "duration": 0.008593,
     "end_time": "2024-03-27T18:44:16.585877",
     "exception": false,
     "start_time": "2024-03-27T18:44:16.577284",
     "status": "completed"
    },
    "tags": []
   },
   "source": [
    "---\n",
    "\n",
    "\n",
    "\n",
    "\n",
    "*Have questions or comments? Visit the [course discussion forum](https://www.kaggle.com/learn/intro-to-programming/discussion) to chat with other learners.*"
   ]
  }
 ],
 "metadata": {
  "kaggle": {
   "accelerator": "none",
   "dataSources": [],
   "isGpuEnabled": false,
   "isInternetEnabled": false,
   "language": "python",
   "sourceType": "notebook"
  },
  "kernelspec": {
   "display_name": "Python 3",
   "language": "python",
   "name": "python3"
  },
  "language_info": {
   "codemirror_mode": {
    "name": "ipython",
    "version": 3
   },
   "file_extension": ".py",
   "mimetype": "text/x-python",
   "name": "python",
   "nbconvert_exporter": "python",
   "pygments_lexer": "ipython3",
   "version": "3.10.13"
  },
  "papermill": {
   "default_parameters": {},
   "duration": 5.073984,
   "end_time": "2024-03-27T18:44:17.115900",
   "environment_variables": {},
   "exception": null,
   "input_path": "__notebook__.ipynb",
   "output_path": "__notebook__.ipynb",
   "parameters": {},
   "start_time": "2024-03-27T18:44:12.041916",
   "version": "2.3.3"
  }
 },
 "nbformat": 4,
 "nbformat_minor": 5
}
