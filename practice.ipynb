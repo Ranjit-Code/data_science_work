{
  "nbformat": 4,
  "nbformat_minor": 0,
  "metadata": {
    "colab": {
      "provenance": []
    },
    "kernelspec": {
      "name": "python3",
      "display_name": "Python 3"
    },
    "language_info": {
      "name": "python"
    }
  },
  "cells": [
    {
      "cell_type": "markdown",
      "source": [
        "$$Started \\; with \\; Python$$\n",
        "### Here you can see simple **print** statement"
      ],
      "metadata": {
        "id": "A7Vfpuqqi-VU"
      }
    },
    {
      "cell_type": "code",
      "execution_count": 1,
      "metadata": {
        "colab": {
          "base_uri": "https://localhost:8080/"
        },
        "id": "jI8hPTL0M3ks",
        "outputId": "69672307-ddc9-4234-f8bf-71c06e727952"
      },
      "outputs": [
        {
          "output_type": "stream",
          "name": "stdout",
          "text": [
            "Hello Universe\n"
          ]
        }
      ],
      "source": [
        "print(\"Hello Universe\")"
      ]
    },
    {
      "cell_type": "markdown",
      "source": [
        "**Comments** in Python\n",
        "\n",
        "\n",
        "1.   single line\n",
        "2.   multiline\n",
        "\n"
      ],
      "metadata": {
        "id": "bj3m8G-QVzmY"
      }
    },
    {
      "cell_type": "code",
      "source": [
        "# single line comments\n",
        "\n",
        "''' multi line\n",
        "    comments '''"
      ],
      "metadata": {
        "id": "7Z8Z1tAMYCzW",
        "colab": {
          "base_uri": "https://localhost:8080/",
          "height": 35
        },
        "outputId": "d38e619f-62a8-4a41-fe75-455955f93e1b"
      },
      "execution_count": 2,
      "outputs": [
        {
          "output_type": "execute_result",
          "data": {
            "text/plain": [
              "' multi line\\n    comments '"
            ],
            "application/vnd.google.colaboratory.intrinsic+json": {
              "type": "string"
            }
          },
          "metadata": {},
          "execution_count": 2
        }
      ]
    },
    {
      "cell_type": "markdown",
      "source": [
        "What are **Tuples** in Python ??\n",
        "\n",
        "\n",
        "> Tuples are very similar to list, only difference: tuple is immutable while list is mutable\n",
        "\n"
      ],
      "metadata": {
        "id": "WOBNcLHbXtmc"
      }
    },
    {
      "cell_type": "code",
      "source": [
        "programming_languages = \"Python\", \"Java\", \"C++\"\n",
        "\n",
        "print(type(programming_languages))\n",
        "print(programming_languages)"
      ],
      "metadata": {
        "colab": {
          "base_uri": "https://localhost:8080/"
        },
        "id": "D6wX8FByTlPf",
        "outputId": "6d9bc2bb-5c92-406e-cff6-edec2bc023ff"
      },
      "execution_count": 3,
      "outputs": [
        {
          "output_type": "stream",
          "name": "stdout",
          "text": [
            "<class 'tuple'>\n",
            "('Python', 'Java', 'C++')\n"
          ]
        }
      ]
    },
    {
      "cell_type": "markdown",
      "source": [
        "\n",
        "\n",
        "> **list** is mutable and represents in []\n",
        "\n"
      ],
      "metadata": {
        "id": "N05lGUVPX5Hd"
      }
    },
    {
      "cell_type": "code",
      "source": [
        "programming_languages = [\"Python\", \"Java\", \"C++\"]\n",
        "print(type(programming_languages))\n",
        "print(programming_languages)"
      ],
      "metadata": {
        "colab": {
          "base_uri": "https://localhost:8080/"
        },
        "id": "oeQ2VyInUBon",
        "outputId": "4c9c7836-12bb-4a0f-ab6c-e7ba459c2cba"
      },
      "execution_count": 4,
      "outputs": [
        {
          "output_type": "stream",
          "name": "stdout",
          "text": [
            "<class 'list'>\n",
            "['Python', 'Java', 'C++']\n"
          ]
        }
      ]
    },
    {
      "cell_type": "markdown",
      "source": [
        "**for loop** in python\n",
        "```\n",
        "# Syntax:\n",
        "for {index_variable} in {array}:\n",
        "  print(index_variable)\n",
        "```\n",
        "\n"
      ],
      "metadata": {
        "id": "PqQboe1dYB9t"
      }
    },
    {
      "cell_type": "code",
      "source": [
        "for language in programming_languages :\n",
        "  print(language)"
      ],
      "metadata": {
        "colab": {
          "base_uri": "https://localhost:8080/"
        },
        "id": "UQPlG9WYTq8J",
        "outputId": "6e7814ce-895f-4309-fd1b-478d47a3b25f"
      },
      "execution_count": 5,
      "outputs": [
        {
          "output_type": "stream",
          "name": "stdout",
          "text": [
            "Python\n",
            "Java\n",
            "C++\n"
          ]
        }
      ]
    },
    {
      "cell_type": "markdown",
      "source": [
        "Let's see list of list"
      ],
      "metadata": {
        "id": "06xJeAAKY-f9"
      }
    },
    {
      "cell_type": "code",
      "source": [
        "game = [[0,0,0], [0,0,0], [0,0,0]]\n",
        "\n",
        "print(type(game))\n",
        "print(game)"
      ],
      "metadata": {
        "colab": {
          "base_uri": "https://localhost:8080/"
        },
        "id": "176pItI2UXua",
        "outputId": "39164253-e764-4e2c-a3ce-de727e05d5a4"
      },
      "execution_count": 6,
      "outputs": [
        {
          "output_type": "stream",
          "name": "stdout",
          "text": [
            "<class 'list'>\n",
            "[[0, 0, 0], [0, 0, 0], [0, 0, 0]]\n"
          ]
        }
      ]
    },
    {
      "cell_type": "markdown",
      "source": [
        "$$Building \\; Tic \\;Tac \\;Toe...$$\n",
        "\n",
        "**game** variable from above cell - just printing the inital values of the array"
      ],
      "metadata": {
        "id": "IcdwwOxCZJ8P"
      }
    },
    {
      "cell_type": "code",
      "source": [
        "for row in game:\n",
        "  print(row)"
      ],
      "metadata": {
        "colab": {
          "base_uri": "https://localhost:8080/"
        },
        "id": "NfHsJnopUnKM",
        "outputId": "b18791db-bf38-4379-879b-e9d35f236a4f"
      },
      "execution_count": 7,
      "outputs": [
        {
          "output_type": "stream",
          "name": "stdout",
          "text": [
            "[0, 0, 0]\n",
            "[0, 0, 0]\n",
            "[0, 0, 0]\n"
          ]
        }
      ]
    },
    {
      "cell_type": "markdown",
      "source": [
        "Understand - **enumerate** - that can have the index with the values\n",
        "\n",
        "\n",
        "```\n",
        "# Syntax:\n",
        "  for count, row in enumerate(game):\n",
        "    print(count, row);\n",
        "```\n",
        "\n"
      ],
      "metadata": {
        "id": "Jk5VGDgqbBVZ"
      }
    },
    {
      "cell_type": "code",
      "source": [
        "for count, row in enumerate(game):\n",
        "  for i in row:\n",
        "    print(i);"
      ],
      "metadata": {
        "colab": {
          "base_uri": "https://localhost:8080/"
        },
        "id": "ApTigfXQYfoS",
        "outputId": "a71eb980-4d7b-4963-87d3-d8038073347c"
      },
      "execution_count": 8,
      "outputs": [
        {
          "output_type": "stream",
          "name": "stdout",
          "text": [
            "0\n",
            "0\n",
            "0\n",
            "0\n",
            "0\n",
            "0\n",
            "0\n",
            "0\n",
            "0\n"
          ]
        }
      ]
    },
    {
      "cell_type": "markdown",
      "source": [
        "**Indexes and slices**\n",
        "\n",
        "\n",
        "*   Index to get the index of the element\n",
        "*   slice is to get all the values b/w 2 indexes\n",
        "\n"
      ],
      "metadata": {
        "id": "fG2xkOiFbYAE"
      }
    },
    {
      "cell_type": "code",
      "source": [
        "l = [1,2,3,4,5]\n",
        "print(l[2]) #index\n",
        "\n",
        "print(l[1:4]) # slice\n",
        "\n",
        "l[1] = 99;\n",
        "\n",
        "print(l[1])"
      ],
      "metadata": {
        "colab": {
          "base_uri": "https://localhost:8080/"
        },
        "id": "-T4cblv2Zi44",
        "outputId": "d2dc705c-c4d8-4093-fc4f-c849df072b96"
      },
      "execution_count": 9,
      "outputs": [
        {
          "output_type": "stream",
          "name": "stdout",
          "text": [
            "3\n",
            "[2, 3, 4]\n",
            "99\n"
          ]
        }
      ]
    },
    {
      "cell_type": "markdown",
      "source": [
        "\n",
        "\n",
        "> Here trying to use the function call instead of writing the for loop again and again.\n",
        "\n"
      ],
      "metadata": {
        "id": "zdYm0g6tcjqB"
      }
    },
    {
      "cell_type": "code",
      "source": [
        "def game_board():\n",
        "  for count,row in enumerate(game):\n",
        "    print(count, row)\n",
        "\n",
        "game[0][1] = 1\n",
        "\n",
        "game_board();\n",
        "\n",
        "print(\"------------\")\n",
        "\n",
        "game[1][1] = 1\n",
        "\n",
        "game_board();"
      ],
      "metadata": {
        "colab": {
          "base_uri": "https://localhost:8080/"
        },
        "id": "IOUdBZD3bd5Z",
        "outputId": "e7fb01f1-b1d6-43a1-d7b7-5c1b0275e805"
      },
      "execution_count": 10,
      "outputs": [
        {
          "output_type": "stream",
          "name": "stdout",
          "text": [
            "0 [0, 1, 0]\n",
            "1 [0, 0, 0]\n",
            "2 [0, 0, 0]\n",
            "------------\n",
            "0 [0, 1, 0]\n",
            "1 [0, 1, 0]\n",
            "2 [0, 0, 0]\n"
          ]
        }
      ]
    },
    {
      "cell_type": "markdown",
      "source": [
        "This code is to test the error and understand the types in python.\n",
        "\n",
        "*   As you can see, either we can pass both numeric to the addition function or strings but cannot pass one as integer and other as string.\n",
        "*   Though this can be done with the use of cython. - Need to read.\n",
        "\n",
        "\n"
      ],
      "metadata": {
        "id": "fhJiHWsubvM7"
      }
    },
    {
      "cell_type": "code",
      "source": [
        "''' def addition(x,y):\n",
        "  return x+y;\n",
        "\n",
        "print(addition(5,6)) #both numeric\n",
        "\n",
        "print(addition(\"hey\", \"there\")) # both string\n",
        "\n",
        "print(addition(5, \"addition\")) # one is numeric other is string...python is dynamic type\n",
        "\n",
        "# if we want to give the type with the values, for that there is a cython on pythonprogramming.net -- read it. '''"
      ],
      "metadata": {
        "colab": {
          "base_uri": "https://localhost:8080/",
          "height": 70
        },
        "id": "OXNAXobvcLS8",
        "outputId": "afdb560e-bc08-414d-d270-4d2c64a795ce"
      },
      "execution_count": 11,
      "outputs": [
        {
          "output_type": "execute_result",
          "data": {
            "text/plain": [
              "' def addition(x,y):\\n  return x+y;\\n\\nprint(addition(5,6)) #both numeric\\n\\nprint(addition(\"hey\", \"there\")) # both string\\n\\nprint(addition(5, \"addition\")) # one is numeric other is string...python is dynamic type\\n\\n# if we want to give the type with the values, for that there is a cython on pythonprogramming.net -- read it. '"
            ],
            "application/vnd.google.colaboratory.intrinsic+json": {
              "type": "string"
            }
          },
          "metadata": {},
          "execution_count": 11
        }
      ]
    },
    {
      "cell_type": "markdown",
      "source": [
        "\n",
        "\n",
        "> Here, trying to make game more flexible by passing the arguments and make them optional (by setting default values).\n",
        "\n"
      ],
      "metadata": {
        "id": "smwFlunHcPTH"
      }
    },
    {
      "cell_type": "code",
      "source": [
        "game = [[0,0,0], [0,0,0], [0,0,0]]\n",
        "\n",
        "def game_board(player=0, row=0, column=0): #arguments are optional that's why having default values, if we want to make it required than no need for default values\n",
        "  game[row][column] = player;\n",
        "  for count,row in enumerate(game):\n",
        "    print(count, row)\n",
        "\n",
        "game_board();\n",
        "print(\"------------\")\n",
        "game_board(1, 0, 1)\n",
        "#or\n",
        "#game_board(player=1, row=0, column=1)\n"
      ],
      "metadata": {
        "colab": {
          "base_uri": "https://localhost:8080/"
        },
        "id": "JP6K-ZIkgOKa",
        "outputId": "f67f2e50-9f3d-4cde-d25c-536fb63c4196"
      },
      "execution_count": 12,
      "outputs": [
        {
          "output_type": "stream",
          "name": "stdout",
          "text": [
            "0 [0, 0, 0]\n",
            "1 [0, 0, 0]\n",
            "2 [0, 0, 0]\n",
            "------------\n",
            "0 [0, 1, 0]\n",
            "1 [0, 0, 0]\n",
            "2 [0, 0, 0]\n"
          ]
        }
      ]
    },
    {
      "cell_type": "code",
      "source": [
        "#Mutability\n",
        "#As we know tuples are immutable and list are mutable. However, we can also edit tuples, lets see it\n",
        "\n",
        "test = \"I want to play game\"\n",
        "print(test)\n",
        "print(id(test))\n",
        "\n",
        "def testImmutable():\n",
        "  test = \"Do not want to play game\"; #it becomes the local variable but doesn't change the global variable\n",
        "  print(test);\n",
        "  print(id(test))\n",
        "\n",
        "testImmutable()\n",
        "print(test)\n",
        "print(id(test))\n"
      ],
      "metadata": {
        "colab": {
          "base_uri": "https://localhost:8080/"
        },
        "id": "GHPDZvJWko2Q",
        "outputId": "52bae6c2-0ac6-4464-bca7-e58f94ddc912"
      },
      "execution_count": 13,
      "outputs": [
        {
          "output_type": "stream",
          "name": "stdout",
          "text": [
            "I want to play game\n",
            "139094617533824\n",
            "Do not want to play game\n",
            "139094617533104\n",
            "I want to play game\n",
            "139094617533824\n"
          ]
        }
      ]
    },
    {
      "cell_type": "code",
      "source": [
        "#Let's check the list now - which suppose to be changed\n",
        "\n",
        "test = [1, 2, 3]\n",
        "print(type(test))\n",
        "print(test),\n",
        "print(id(test))\n",
        "\n",
        "def testImmutable():\n",
        "  test[1] = 99\n",
        "  print(test)\n",
        "  print(id(test))\n",
        "\n",
        "testImmutable();\n",
        "print(test)\n",
        "print(id(test))"
      ],
      "metadata": {
        "colab": {
          "base_uri": "https://localhost:8080/"
        },
        "id": "In82sPbnleII",
        "outputId": "5163a479-43ef-4d72-dd4f-06997f3c7f1c"
      },
      "execution_count": 14,
      "outputs": [
        {
          "output_type": "stream",
          "name": "stdout",
          "text": [
            "<class 'list'>\n",
            "[1, 2, 3]\n",
            "139094617547584\n",
            "[1, 99, 3]\n",
            "139094617547584\n",
            "[1, 99, 3]\n",
            "139094617547584\n"
          ]
        }
      ]
    },
    {
      "cell_type": "code",
      "source": [
        "#Let's see how we can change the value of tuple though it is immutable\n",
        "test = \"I want to play the game\";\n",
        "print(type(test))\n",
        "print(test)\n",
        "print(id(test))\n",
        "\n",
        "def testImmutable():\n",
        "  global test; # means we can use this variable globally anywhere in the application.\n",
        "  test = \"Do not want to change the game\";\n",
        "  print(test);\n",
        "  print(id(test))\n",
        "\n",
        "testImmutable()\n",
        "print(test)\n",
        "print(id(test))"
      ],
      "metadata": {
        "colab": {
          "base_uri": "https://localhost:8080/"
        },
        "id": "lQ2Q6E5CmVKH",
        "outputId": "bda6500c-594f-4eeb-d1d1-94efef491f56"
      },
      "execution_count": 15,
      "outputs": [
        {
          "output_type": "stream",
          "name": "stdout",
          "text": [
            "<class 'str'>\n",
            "I want to play the game\n",
            "139094617538304\n",
            "Do not want to change the game\n",
            "139094617538464\n",
            "Do not want to change the game\n",
            "139094617538464\n"
          ]
        }
      ]
    },
    {
      "cell_type": "markdown",
      "source": [
        "Final version: where 1 player wins the game.\n",
        "\n",
        "\n",
        "> Understood the role of list/enumerate\n",
        "\n",
        "> Use of functions\n",
        "\n",
        "> Arguments passing techniques\n",
        "\n",
        "\n",
        "\n",
        "\n",
        "\n"
      ],
      "metadata": {
        "id": "iHxRohNxdNdQ"
      }
    },
    {
      "cell_type": "code",
      "source": [
        "#Lets change the board game\n",
        "\n",
        "game = [[0,0,0], [0,0,0], [0,0,0]]\n",
        "\n",
        "def game_board(game_map, player=0, row=0, column=0):\n",
        "  try:\n",
        "    game_map[row][column] = player;\n",
        "    for count, row in enumerate(game_map):\n",
        "      print(count, row);\n",
        "    return game_map;\n",
        "  except IndexError as e:\n",
        "    print(\"Error: make sure you input row/column as 0 1 or 2\", e)\n",
        "  except Exception as ex:\n",
        "    print(\"something went wrong!\", e)\n",
        "\n",
        "game = game_board(game);\n",
        "print(\"----------\")\n",
        "game = game_board(game, 1, 0, 1)\n",
        "print(\"----------\")\n",
        "game = game_board(game, 1, 0, 0)\n",
        "print(\"----------\")\n",
        "game = game_board(game, 1, 0, 2)\n",
        "print(\"----------\")\n",
        "print(\"player 1 wins...\")\n",
        "\n"
      ],
      "metadata": {
        "colab": {
          "base_uri": "https://localhost:8080/"
        },
        "id": "kqSSMhIfnAjY",
        "outputId": "77223f84-4ad1-490c-a3e6-655a2dfc85bd"
      },
      "execution_count": 16,
      "outputs": [
        {
          "output_type": "stream",
          "name": "stdout",
          "text": [
            "0 [0, 0, 0]\n",
            "1 [0, 0, 0]\n",
            "2 [0, 0, 0]\n",
            "----------\n",
            "0 [0, 1, 0]\n",
            "1 [0, 0, 0]\n",
            "2 [0, 0, 0]\n",
            "----------\n",
            "0 [1, 1, 0]\n",
            "1 [0, 0, 0]\n",
            "2 [0, 0, 0]\n",
            "----------\n",
            "0 [1, 1, 1]\n",
            "1 [0, 0, 0]\n",
            "2 [0, 0, 0]\n",
            "----------\n",
            "player 1 wins...\n"
          ]
        }
      ]
    }
  ]
}